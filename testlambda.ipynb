{
 "cells": [
  {
   "cell_type": "code",
   "execution_count": 1,
   "metadata": {},
   "outputs": [],
   "source": [
    "import pandas as pd\n",
    "def process_file(file_path):\n",
    "    with open(file_path, 'r') as file:\n",
    "        lines = file.readlines()\n",
    "\n",
    "    data = {}\n",
    "    current_signal_id = None\n",
    "    for line in lines:\n",
    "        if line.startswith('#,'):\n",
    "            current_signal_id = line.strip().split(',')[1]\n",
    "            if current_signal_id not in data:\n",
    "                data[current_signal_id] = []\n",
    "        else:\n",
    "            volume = line.strip()\n",
    "            data[current_signal_id].append(volume)\n",
    "\n",
    "    data = [[signal_id, ' '.join(volumes)] for signal_id, volumes in data.items()]\n",
    "    df = pd.DataFrame(data, columns=['signal_id', 'volume'])\n",
    "    return df\n",
    "\n"
   ]
  },
  {
   "cell_type": "code",
   "execution_count": 2,
   "metadata": {},
   "outputs": [
    {
     "data": {
      "text/html": [
       "<div>\n",
       "<style scoped>\n",
       "    .dataframe tbody tr th:only-of-type {\n",
       "        vertical-align: middle;\n",
       "    }\n",
       "\n",
       "    .dataframe tbody tr th {\n",
       "        vertical-align: top;\n",
       "    }\n",
       "\n",
       "    .dataframe thead th {\n",
       "        text-align: right;\n",
       "    }\n",
       "</style>\n",
       "<table border=\"1\" class=\"dataframe\">\n",
       "  <thead>\n",
       "    <tr style=\"text-align: right;\">\n",
       "      <th></th>\n",
       "      <th>signal_id</th>\n",
       "      <th>volume</th>\n",
       "    </tr>\n",
       "  </thead>\n",
       "  <tbody>\n",
       "    <tr>\n",
       "      <th>0</th>\n",
       "      <td>1498255288</td>\n",
       "      <td>9627,1 9638,3 9650,6 9661,8 9671,10 9682,13 96...</td>\n",
       "    </tr>\n",
       "    <tr>\n",
       "      <th>1</th>\n",
       "      <td>1498344071</td>\n",
       "      <td>7907,3 7917,5 7928,5 7940,5 7951,5 7961,6 7972...</td>\n",
       "    </tr>\n",
       "  </tbody>\n",
       "</table>\n",
       "</div>"
      ],
      "text/plain": [
       "    signal_id                                             volume\n",
       "0  1498255288  9627,1 9638,3 9650,6 9661,8 9671,10 9682,13 96...\n",
       "1  1498344071  7907,3 7917,5 7928,5 7940,5 7951,5 7961,6 7972..."
      ]
     },
     "execution_count": 2,
     "metadata": {},
     "output_type": "execute_result"
    }
   ],
   "source": [
    "df = process_file(r\"C:\\Users\\Trisss\\Desktop\\Capstone\\Caps project\\demo_upload\\data\\20170625\")\n",
    "df"
   ]
  },
  {
   "cell_type": "code",
   "execution_count": 3,
   "metadata": {},
   "outputs": [],
   "source": [
    "def weighted_moving_average(data, timestamps, window_size):\n",
    "    weights = np.arange(1, window_size + 1)\n",
    "    smoothed_data = np.convolve(data, weights, 'valid') / np.sum(weights)\n",
    "    smoothed_timestamps = timestamps[window_size - 1:]\n",
    "    return smoothed_data, smoothed_timestamps"
   ]
  },
  {
   "cell_type": "code",
   "execution_count": 4,
   "metadata": {},
   "outputs": [],
   "source": [
    "def enforce_monotonicity(values):\n",
    "    corrected_values = [values[0]]\n",
    "    for value in values[1:]:\n",
    "        corrected_value = max(value, corrected_values[-1])\n",
    "        corrected_values.append(corrected_value)\n",
    "    return corrected_values"
   ]
  },
  {
   "cell_type": "code",
   "execution_count": 5,
   "metadata": {},
   "outputs": [],
   "source": [
    "def input_to_df(content, index, col_name, df):\n",
    "    df.loc[index, col_name] = content\n",
    "    return df"
   ]
  },
  {
   "cell_type": "code",
   "execution_count": 6,
   "metadata": {},
   "outputs": [],
   "source": [
    "def connect_string(a,b):\n",
    "    pairs = zip(a, b)\n",
    "    result = ' '.join([f'{t},{v}' for t, v in pairs])\n",
    "    return result"
   ]
  },
  {
   "cell_type": "code",
   "execution_count": 137,
   "metadata": {},
   "outputs": [],
   "source": [
    "def adjust_timestamps(data_str, window_size):\n",
    "    data_list = data_str.split()\n",
    "\n",
    "    timestamps = [float(pair.split(',')[0]) for pair in data_list]\n",
    "    values = [float(pair.split(',')[1]) for pair in data_list]\n",
    "\n",
    "    timestamps = pd.to_datetime(timestamps, unit='ms')\n",
    "    average_distance = np.mean(np.diff(timestamps).astype('timedelta64[ms]'))\n",
    "    adjusted_timestamps = timestamps[0] + pd.to_timedelta(np.arange(len(timestamps)) * average_distance)\n",
    "\n",
    "    time = (adjusted_timestamps - adjusted_timestamps[0]).total_seconds() * 1000\n",
    "    time = time.astype(int).tolist()\n",
    "\n",
    "    smoothed_values, smoothed_timestamps = weighted_moving_average(values, time, window_size)\n",
    "    pos_val = enforce_monotonicity(smoothed_values)\n",
    "    sv, st = weighted_moving_average(pos_val, smoothed_timestamps, window_size)\n",
    "\n",
    "    sv = sv/10\n",
    "    sv = [round(val, 2) for val in sv]\n",
    "    \n",
    "    st = np.array(st)/1000\n",
    "    st = st - min(st)\n",
    "    st = [round(val, 4) for val in st]\n",
    "    result = connect_string(st, sv)\n",
    "    return result, st, sv"
   ]
  },
  {
   "cell_type": "code",
   "execution_count": 138,
   "metadata": {},
   "outputs": [],
   "source": [
    "def flow_rate_gen(smoothed_timestamps, sc_values):\n",
    "\n",
    "    volume_diff = np.array(sc_values[50:]) - np.array(sc_values[:-50])\n",
    "    time_diff_seconds = np.array(smoothed_timestamps[50:]) - np.array(smoothed_timestamps[:-50])\n",
    "\n",
    "    flow_rate_per_second = volume_diff / time_diff_seconds\n",
    "    sm_time = smoothed_timestamps[50:]\n",
    "    st =  sm_time - min(sm_time)\n",
    "    st = [round(val, 4) for val in st]\n",
    "    fr = [round(val, 2) for val in flow_rate_per_second]\n",
    "\n",
    "    result = connect_string(st, fr)\n",
    "\n",
    "    return result, st, fr"
   ]
  },
  {
   "cell_type": "code",
   "execution_count": 139,
   "metadata": {},
   "outputs": [
    {
     "data": {
      "text/html": [
       "<div>\n",
       "<style scoped>\n",
       "    .dataframe tbody tr th:only-of-type {\n",
       "        vertical-align: middle;\n",
       "    }\n",
       "\n",
       "    .dataframe tbody tr th {\n",
       "        vertical-align: top;\n",
       "    }\n",
       "\n",
       "    .dataframe thead th {\n",
       "        text-align: right;\n",
       "    }\n",
       "</style>\n",
       "<table border=\"1\" class=\"dataframe\">\n",
       "  <thead>\n",
       "    <tr style=\"text-align: right;\">\n",
       "      <th></th>\n",
       "      <th>signal_id</th>\n",
       "      <th>volume</th>\n",
       "    </tr>\n",
       "  </thead>\n",
       "  <tbody>\n",
       "    <tr>\n",
       "      <th>0</th>\n",
       "      <td>1498255288</td>\n",
       "      <td>9627,1 9638,3 9650,6 9661,8 9671,10 9682,13 96...</td>\n",
       "    </tr>\n",
       "    <tr>\n",
       "      <th>1</th>\n",
       "      <td>1498344071</td>\n",
       "      <td>7907,3 7917,5 7928,5 7940,5 7951,5 7961,6 7972...</td>\n",
       "    </tr>\n",
       "  </tbody>\n",
       "</table>\n",
       "</div>"
      ],
      "text/plain": [
       "    signal_id                                             volume\n",
       "0  1498255288  9627,1 9638,3 9650,6 9661,8 9671,10 9682,13 96...\n",
       "1  1498344071  7907,3 7917,5 7928,5 7940,5 7951,5 7961,6 7972..."
      ]
     },
     "execution_count": 139,
     "metadata": {},
     "output_type": "execute_result"
    }
   ],
   "source": [
    "df = process_file(r\"C:\\Users\\Trisss\\Desktop\\Capstone\\Caps project\\demo_upload\\data\\20170625\")\n",
    "df"
   ]
  },
  {
   "cell_type": "code",
   "execution_count": 140,
   "metadata": {},
   "outputs": [],
   "source": [
    "df = process_file(r\"C:\\Users\\Trisss\\Desktop\\Capstone\\Caps project\\demo_upload\\data\\20170625\")\n",
    "df\n",
    "import numpy as np\n",
    "window_size = 50\n",
    "for i in df.index:\n",
    "    volume_string, time, volume = adjust_timestamps(df.loc[i, 'volume'], window_size)\n",
    "    flow_rate_string, fr_time, flow_rate = flow_rate_gen(time, volume)\n",
    "    median_volume = np.median(volume)\n",
    "    max_flowrate = np.max(flow_rate)\n",
    "\n",
    "    step = fr_time[1] - fr_time[0]\n",
    "    voided_volume_per_interval = np.sum(flow_rate)\n",
    "    voided_volume = voided_volume_per_interval*step\n",
    "\n",
    "    average_flow_rate = voided_volume / max(fr_time)\n",
    "    time_to_max_flow_rate = time[np.argmax(flow_rate)] - time[0]\n",
    "    flow_time = max(time)\n",
    "\n",
    "    df.loc[i, [\"volume\", \"flow\", \"median_volume\", \"voided_volume\", \"max_flow_rate\", \"avg_flow_rate\", \"time_to_max_flow_rate\", \"flow_time\"]] = [volume_string, flow_rate_string, median_volume, voided_volume, max_flowrate, average_flow_rate, time_to_max_flow_rate, flow_time]"
   ]
  },
  {
   "cell_type": "code",
   "execution_count": 141,
   "metadata": {},
   "outputs": [
    {
     "data": {
      "text/html": [
       "<div>\n",
       "<style scoped>\n",
       "    .dataframe tbody tr th:only-of-type {\n",
       "        vertical-align: middle;\n",
       "    }\n",
       "\n",
       "    .dataframe tbody tr th {\n",
       "        vertical-align: top;\n",
       "    }\n",
       "\n",
       "    .dataframe thead th {\n",
       "        text-align: right;\n",
       "    }\n",
       "</style>\n",
       "<table border=\"1\" class=\"dataframe\">\n",
       "  <thead>\n",
       "    <tr style=\"text-align: right;\">\n",
       "      <th></th>\n",
       "      <th>signal_id</th>\n",
       "      <th>volume</th>\n",
       "      <th>flow</th>\n",
       "      <th>median_volume</th>\n",
       "      <th>voided_volume</th>\n",
       "      <th>max_flow_rate</th>\n",
       "      <th>avg_flow_rate</th>\n",
       "      <th>time_to_max_flow_rate</th>\n",
       "      <th>flow_time</th>\n",
       "    </tr>\n",
       "  </thead>\n",
       "  <tbody>\n",
       "    <tr>\n",
       "      <th>0</th>\n",
       "      <td>1498255288</td>\n",
       "      <td>0.0,1.66 0.011,1.69 0.022,1.71 0.033,1.73 0.04...</td>\n",
       "      <td>0.0,6.22 0.011,6.36 0.022,6.55 0.033,6.73 0.04...</td>\n",
       "      <td>200.87</td>\n",
       "      <td>197.99197</td>\n",
       "      <td>21.25</td>\n",
       "      <td>4.155915</td>\n",
       "      <td>5.368</td>\n",
       "      <td>48.191</td>\n",
       "    </tr>\n",
       "    <tr>\n",
       "      <th>1</th>\n",
       "      <td>1498344071</td>\n",
       "      <td>0.0,3.0 0.011,3.08 0.022,3.16 0.033,3.23 0.044...</td>\n",
       "      <td>0.0,7.64 0.011,7.67 0.022,7.73 0.033,7.78 0.04...</td>\n",
       "      <td>188.68</td>\n",
       "      <td>186.97580</td>\n",
       "      <td>16.38</td>\n",
       "      <td>1.878002</td>\n",
       "      <td>5.577</td>\n",
       "      <td>100.111</td>\n",
       "    </tr>\n",
       "  </tbody>\n",
       "</table>\n",
       "</div>"
      ],
      "text/plain": [
       "    signal_id                                             volume  \\\n",
       "0  1498255288  0.0,1.66 0.011,1.69 0.022,1.71 0.033,1.73 0.04...   \n",
       "1  1498344071  0.0,3.0 0.011,3.08 0.022,3.16 0.033,3.23 0.044...   \n",
       "\n",
       "                                                flow  median_volume  \\\n",
       "0  0.0,6.22 0.011,6.36 0.022,6.55 0.033,6.73 0.04...         200.87   \n",
       "1  0.0,7.64 0.011,7.67 0.022,7.73 0.033,7.78 0.04...         188.68   \n",
       "\n",
       "   voided_volume  max_flow_rate  avg_flow_rate  time_to_max_flow_rate  \\\n",
       "0      197.99197          21.25       4.155915                  5.368   \n",
       "1      186.97580          16.38       1.878002                  5.577   \n",
       "\n",
       "   flow_time  \n",
       "0     48.191  \n",
       "1    100.111  "
      ]
     },
     "execution_count": 141,
     "metadata": {},
     "output_type": "execute_result"
    }
   ],
   "source": [
    "df"
   ]
  },
  {
   "cell_type": "code",
   "execution_count": 125,
   "metadata": {},
   "outputs": [
    {
     "name": "stdout",
     "output_type": "stream",
     "text": [
      "Median Volume: 200.87\n",
      "Max Flowrate: 21.254545454545458\n",
      "Voided Volume: 197.9877324163077\n",
      "Average Flow Rate: 4.155826544705352\n",
      "Flow Time: 48.190999999999995\n",
      "Time to Max Flow Rate: 5.412\n"
     ]
    }
   ],
   "source": [
    "\n",
    "print(\"Median Volume:\", median_volume)\n",
    "print(\"Max Flowrate:\", max_flowrate)\n",
    "print(\"Voided Volume:\", voided_volume)\n",
    "print(\"Average Flow Rate:\", average_flow_rate)\n",
    "print(\"Flow Time:\", flow_time)\n",
    "print(\"Time to Max Flow Rate:\", time_to_max_flow_rate)\n"
   ]
  },
  {
   "cell_type": "code",
   "execution_count": 48,
   "metadata": {},
   "outputs": [
    {
     "name": "stdout",
     "output_type": "stream",
     "text": [
      "1498255288\n"
     ]
    }
   ],
   "source": [
    "df[\"signal_id\"]= pd.to_numeric(df[\"signal_id\"], errors='coerce')\n",
    "signal_id = df['signal_id']\n",
    "for id in signal_id:\n",
    "    print(id)\n",
    "    df_1 = df[df['signal_id'] == id]\n",
    "\n",
    "    # Get the 'volume' data for this row\n",
    "    volume_data = df_1['volume'].values[0]\n",
    "\n",
    "    # Split the string into a list of timestamp-value pairs\n",
    "    data_list = volume_data.split()\n",
    "\n",
    "    # Separate the timestamps and values into two lists\n",
    "    timestamps = [float(pair.split(',')[0]) for pair in data_list]\n",
    "    values = [float(pair.split(',')[1]) for pair in data_list]\n",
    "    break\n"
   ]
  },
  {
   "cell_type": "code",
   "execution_count": 49,
   "metadata": {},
   "outputs": [
    {
     "data": {
      "image/png": "[encoded data removed]",
      "text/plain": [
       "<Figure size 1000x600 with 1 Axes>"
      ]
     },
     "metadata": {},
     "output_type": "display_data"
    }
   ],
   "source": [
    "import numpy as np\n",
    "import matplotlib.pyplot as plt\n",
    "plt.figure(figsize=(10, 6))\n",
    "plt.plot(timestamps, values, label='smo-cor')\n",
    "\n",
    "plt.legend()\n",
    "plt.show()"
   ]
  },
  {
   "cell_type": "code",
   "execution_count": 50,
   "metadata": {},
   "outputs": [],
   "source": [
    "import numpy as np\n",
    "\n",
    "# Convert your time data from milliseconds to seconds\n",
    "# smoothed_timestamps_seconds = np.array(timestamps) / 1000\n",
    "\n",
    "# Calculate the differences between volume measurements 5 steps apart\n",
    "volume_diff = np.array(values[50:]) - np.array(values[:-50])\n",
    "\n",
    "# Calculate the differences between timestamps in seconds, 5 steps apart\n",
    "time_diff_seconds = np.array(timestamps[50:]) - np.array(timestamps[:-50])\n",
    "\n",
    "# Calculate the flow rate in ml/s\n",
    "flow_rate_per_second = volume_diff / time_diff_seconds\n"
   ]
  },
  {
   "cell_type": "code",
   "execution_count": 51,
   "metadata": {},
   "outputs": [
    {
     "data": {
      "image/png": "[encoded data removed]",
      "text/plain": [
       "<Figure size 1000x600 with 1 Axes>"
      ]
     },
     "metadata": {},
     "output_type": "display_data"
    }
   ],
   "source": [
    "# Plot the flow rate over time\n",
    "plt.figure(figsize=(10, 6))\n",
    "plt.plot(timestamps[50:], flow_rate_per_second, label='Flow Rate')\n",
    "plt.xlabel('Time')\n",
    "plt.ylabel('Flow Rate')\n",
    "plt.title('Flow Rate over Time')\n",
    "plt.legend()\n",
    "plt.show()"
   ]
  }
 ],
 "metadata": {
  "kernelspec": {
   "display_name": "Python 3",
   "language": "python",
   "name": "python3"
  },
  "language_info": {
   "codemirror_mode": {
    "name": "ipython",
    "version": 3
   },
   "file_extension": ".py",
   "mimetype": "text/x-python",
   "name": "python",
   "nbconvert_exporter": "python",
   "pygments_lexer": "ipython3",
   "version": "3.10.6"
  }
 },
 "nbformat": 4,
 "nbformat_minor": 2
}
